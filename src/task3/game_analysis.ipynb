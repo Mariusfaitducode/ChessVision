{
 "cells": [
  {
   "cell_type": "code",
   "execution_count": 22,
   "id": "a514a488-1535-4f3d-9225-0163cdee59d7",
   "metadata": {
    "ExecuteTime": {
     "end_time": "2024-12-06T15:21:58.489359Z",
     "start_time": "2024-12-06T15:21:58.460116Z"
    }
   },
   "outputs": [],
   "source": [
    "import numpy as np\n",
    "import matplotlib\n",
    "import matplotlib.pyplot as plt\n",
    "from PIL import Image\n",
    "import os\n",
    "import re\n",
    "import copy\n",
    "import json"
   ]
  },
  {
   "cell_type": "code",
   "execution_count": 23,
   "id": "83cf5bdc-482c-4d70-8f3c-465b885ac66d",
   "metadata": {
    "ExecuteTime": {
     "end_time": "2024-12-06T15:21:58.952857Z",
     "start_time": "2024-12-06T15:21:58.947431Z"
    }
   },
   "outputs": [],
   "source": [
    "from chessboard_utils import *"
   ]
  },
  {
   "cell_type": "code",
   "execution_count": null,
   "id": "815d39b1-7783-4cb8-8212-adf29d7d8c30",
   "metadata": {
    "ExecuteTime": {
     "end_time": "2024-12-06T15:22:00.452564Z",
     "start_time": "2024-12-06T15:21:59.297083Z"
    }
   },
   "outputs": [],
   "source": [
    "game_state = np.array([\n",
    "    [-2, -3, -4, -6, -5, -4, -3, -2],\n",
    "    [-1, -1, -1, -1, -1, -1, -1, -1],\n",
    "    [ 0,  0,  0,  0,  0,  0,  0,  -7],\n",
    "    [ 0,  0,  0,  0,  0,  0,  0,  0],\n",
    "    [ 0,  0,  0,  0,  0,  0,  0,  0],\n",
    "    [ 0,  0,  0,  0,  0,  0,  0,  7],\n",
    "    [ 1,  1,  1,  1,  1,  1,  1,  1],\n",
    "    [ 2,  3,  4,  6,  5,  4,  3,  2],\n",
    "])\n",
    "\n",
    "    \n",
    "draw_chessboard(game_state, show=True)\n"
   ]
  },
  {
   "cell_type": "code",
   "execution_count": 25,
   "id": "126ee738",
   "metadata": {
    "ExecuteTime": {
     "end_time": "2024-12-06T18:51:11.921756Z",
     "start_time": "2024-12-06T18:51:11.915729Z"
    }
   },
   "outputs": [],
   "source": [
    "import sys\n",
    "from pathlib import Path\n",
    "\n",
    "project_root = Path().absolute().parent\n",
    "sys.path.append(str(project_root))\n",
    "\n",
    "from movement_analysis import *\n",
    "from actualize_game_state import *"
   ]
  },
  {
   "cell_type": "code",
   "execution_count": null,
   "id": "b850260e373adfc0",
   "metadata": {
    "ExecuteTime": {
     "end_time": "2024-12-06T18:51:12.516909Z",
     "start_time": "2024-12-06T18:51:12.500525Z"
    }
   },
   "outputs": [],
   "source": [
    "with open('game_state.json', 'r') as f:\n",
    "    game_data = json.load(f)\n",
    "    \n",
    "length = len(game_data['game_states'])    \n",
    "length"
   ]
  },
  {
   "cell_type": "code",
   "execution_count": null,
   "id": "5e478e13-8b93-4b46-92aa-f03b696394e3",
   "metadata": {
    "ExecuteTime": {
     "start_time": "2024-12-06T18:51:26.988289Z"
    },
    "jupyter": {
     "is_executing": true
    }
   },
   "outputs": [],
   "source": [
    "# Read the game states from game_state.json\n",
    "# with open('challenge_game_state2.json', 'r') as f:\n",
    "#     game_data = json.load(f)\n",
    "\n",
    "with open('game_state_1.json', 'r') as f:\n",
    "    game_data = json.load(f)\n",
    "\n",
    "\n",
    "last_game_state = game_data['game_states'][0]['gs']\n",
    "\n",
    "last_game_state = np.fliplr(last_game_state.copy())\n",
    "last_game_state = np.rot90(last_game_state.copy(), k=-1)\n",
    "last_game_state = np.rot90(last_game_state.copy(), k=-1)\n",
    "\n",
    "\n",
    "draw_chessboard(last_game_state, show=True)\n",
    "\n",
    "potential_castling = None\n",
    "\n",
    "print('last_game_state : ', last_game_state)\n",
    "\n",
    "actualized_game_state = initialize_game_state(last_game_state)\n",
    "\n",
    "analyzed_data = {\"game_state\": []}\n",
    "# Display each game state\n",
    "for i, state in enumerate(game_data['game_states'][1:]):\n",
    "\n",
    "    print('\\n##############################################')\n",
    "    print(f\"\\nGame state {i} (Frame: {state['frame']}):\")\n",
    "    # valid_move = True\n",
    "    \n",
    "    curr_state = np.array(state['gs'])\n",
    "\n",
    "    curr_state = np.fliplr(curr_state.copy())\n",
    "    curr_state = np.rot90(curr_state.copy(), k=-1)\n",
    "    curr_state = np.rot90(curr_state.copy(), k=-1)\n",
    "\n",
    "\n",
    "    move_analysis, potential_castling = analyze_move(last_game_state, curr_state, potential_castling, actualized_game_state)\n",
    "\n",
    "    # valid_move = move_analysis['valid']\n",
    "    \n",
    "    if move_analysis['valid']:\n",
    "\n",
    "        if move_analysis['move_type'] != 'castling' and move_analysis['error_pos'] is not None:\n",
    "\n",
    "            error_pos = move_analysis['error_pos']\n",
    "            print('Correct error position : ', error_pos)\n",
    "            curr_state[error_pos] = last_game_state[error_pos]\n",
    "\n",
    "\n",
    "        last_game_state = curr_state.copy()\n",
    "\n",
    "\n",
    "        if move_analysis['move_type'] == 'castling':\n",
    "\n",
    "            new_game_state, board, piece_certainty = actualize_game_state_with_castling(actualized_game_state, move_analysis, curr_state)\n",
    "            print(board)\n",
    "\n",
    "        else:\n",
    "\n",
    "            actualized_game_state, board, piece_certainty = actualize_game_state(actualized_game_state, move_analysis, curr_state)\n",
    "            print(board)\n",
    "\n",
    "            board_state_serializable = board.tolist()\n",
    "\n",
    "        # Save the current frame and board state\n",
    "            analyzed_data[\"game_state\"].append({\n",
    "            \"frame\": state[\"frame\"],\n",
    "            \"gs\": board_state_serializable\n",
    "        })\n",
    "            from_pos = move_analysis['from_pos']\n",
    "            to_pos = move_analysis['to_pos']\n",
    "            piece = move_analysis['piece']\n",
    "\n",
    "            valid_pices = move_analysis['valid_pieces']\n",
    "            \n",
    "            # Convertir les positions en notation d'échecs\n",
    "            from_square = f\"{chr(97 + from_pos[1])}{8 - from_pos[0]}\"\n",
    "            to_square = f\"{chr(97 + to_pos[1])}{8 - to_pos[0]}\"\n",
    "            \n",
    "            if move_analysis['move_type'] == 'move':\n",
    "                print(f\"Move: {from_square} -> {to_square}\")\n",
    "            \n",
    "            else:  # capture\n",
    "                print(f\"Capture: {from_square} x {to_square}\")\n",
    "\n",
    "\n",
    "        print(piece_certainty)\n",
    "        print(board)\n",
    "        draw_chessboard(board, show=True)\n",
    "        \n",
    "    else:\n",
    "        print(f\"Invalid move: {move_analysis['message']}\")"
   ]
  },
  {
   "cell_type": "code",
   "execution_count": 28,
   "id": "f77a2809a3fdd38f",
   "metadata": {
    "ExecuteTime": {
     "end_time": "2024-12-06T18:50:50.853854Z",
     "start_time": "2024-12-06T18:50:50.845305Z"
    }
   },
   "outputs": [],
   "source": [
    "with open('analyzed_game_states.json', 'w') as f:\n",
    "    json.dump(analyzed_data, f, indent=4)"
   ]
  },
  {
   "cell_type": "code",
   "execution_count": null,
   "id": "e8493e3caf7da732",
   "metadata": {},
   "outputs": [],
   "source": []
  }
 ],
 "metadata": {
  "kernelspec": {
   "display_name": "Python 3",
   "language": "python",
   "name": "python3"
  },
  "language_info": {
   "codemirror_mode": {
    "name": "ipython",
    "version": 3
   },
   "file_extension": ".py",
   "mimetype": "text/x-python",
   "name": "python",
   "nbconvert_exporter": "python",
   "pygments_lexer": "ipython3",
   "version": "3.12.4"
  }
 },
 "nbformat": 4,
 "nbformat_minor": 5
}
