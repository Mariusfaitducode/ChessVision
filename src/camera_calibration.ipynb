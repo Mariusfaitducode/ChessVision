{
 "cells": [
  {
   "cell_type": "code",
   "execution_count": 1,
   "metadata": {},
   "outputs": [],
   "source": [
    "import numpy as np\n",
    "import cv2\n",
    "import glob"
   ]
  },
  {
   "cell_type": "code",
   "execution_count": 2,
   "metadata": {},
   "outputs": [
    {
     "name": "stdout",
     "output_type": "stream",
     "text": [
      "['./calibration_images\\\\img1.png', './calibration_images\\\\img2.png', './calibration_images\\\\img3.png']\n",
      "False None\n",
      "False None\n",
      "False None\n"
     ]
    },
    {
     "ename": "",
     "evalue": "",
     "output_type": "error",
     "traceback": [
      "\u001b[1;31mThe Kernel crashed while executing code in the current cell or a previous cell. \n",
      "\u001b[1;31mPlease review the code in the cell(s) to identify a possible cause of the failure. \n",
      "\u001b[1;31mClick <a href='https://aka.ms/vscodeJupyterKernelCrash'>here</a> for more info. \n",
      "\u001b[1;31mView Jupyter <a href='command:jupyter.viewOutput'>log</a> for further details."
     ]
    }
   ],
   "source": [
    "\n",
    "\n",
    "# Dimensions de l’échiquier utilisé (nombre de coins internes)\n",
    "chessboard_size = (8, 8)\n",
    "frame_size = (640, 480)\n",
    "\n",
    "\n",
    "# Préparation des critères d’arrêt de l’algorithme\n",
    "criteria = (cv2.TERM_CRITERIA_EPS + cv2.TERM_CRITERIA_MAX_ITER, 30, 0.001)\n",
    "\n",
    "\n",
    "# Coordonnées 3D des points d'intersection de l’échiquier dans le monde réel\n",
    "objp = np.zeros((np.prod(chessboard_size), 3), np.float32)\n",
    "objp[:, :2] = np.mgrid[0:chessboard_size[0], 0:chessboard_size[1]].T.reshape(-1, 2)\n",
    "\n",
    "# print(objp)\n",
    "\n",
    "\n",
    "# Listes pour stocker les points 3D du monde réel et les points 2D des images\n",
    "objpoints = []\n",
    "imgpoints = []\n",
    "\n",
    "\n",
    "# Lire toutes les images d'un dossier\n",
    "images = glob.glob('./calibration_images/*.png')\n",
    "\n",
    "print(images)\n",
    "\n",
    "\n",
    "for fname in images:\n",
    "\n",
    "    # Lire l'image\n",
    "    img = cv2.imread(fname)\n",
    "    \n",
    "    # On convertit en gris pour la détection des coins\n",
    "    gray = cv2.cvtColor(img, cv2.COLOR_BGR2GRAY)\n",
    "    cv2.imshow('img', img)\n",
    "    \n",
    "    # Détection des coins de l'échiquier\n",
    "    ret, corners = cv2.findChessboardCorners(gray, chessboard_size, None)\n",
    "\n",
    "    print(ret, corners)\n",
    "    \n",
    "    if ret:\n",
    "        objpoints.append(objp)\n",
    "        imgpoints.append(corners)\n",
    "\n",
    "        corners2 = cv2.cornerSubPix(gray, corners, (11, 11), (-1, -1), criteria)\n",
    "        \n",
    "        # Afficher les coins détectés\n",
    "        cv2.drawChessboardCorners(img, chessboard_size, corners, ret)\n",
    "\n",
    "        print(\"image\")\n",
    "        cv2.imshow('img', img)\n",
    "        cv2.waitKey(500)\n",
    "\n",
    "# cv2.destroyAllWindows()"
   ]
  }
 ],
 "metadata": {
  "kernelspec": {
   "display_name": "Python 3",
   "language": "python",
   "name": "python3"
  },
  "language_info": {
   "codemirror_mode": {
    "name": "ipython",
    "version": 3
   },
   "file_extension": ".py",
   "mimetype": "text/x-python",
   "name": "python",
   "nbconvert_exporter": "python",
   "pygments_lexer": "ipython3",
   "version": "3.11.3"
  }
 },
 "nbformat": 4,
 "nbformat_minor": 2
}
