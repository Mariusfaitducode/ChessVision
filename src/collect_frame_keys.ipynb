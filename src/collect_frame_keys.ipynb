{
 "cells": [
  {
   "cell_type": "code",
   "execution_count": 1,
   "metadata": {},
   "outputs": [
    {
     "ename": "FileNotFoundError",
     "evalue": "[Errno 2] No such file or directory: './games/moving_game.json'",
     "output_type": "error",
     "traceback": [
      "\u001b[1;31m---------------------------------------------------------------------------\u001b[0m",
      "\u001b[1;31mFileNotFoundError\u001b[0m                         Traceback (most recent call last)",
      "Cell \u001b[1;32mIn[1], line 44\u001b[0m\n\u001b[0;32m     41\u001b[0m frame_number \u001b[38;5;241m=\u001b[39m \u001b[38;5;241m0\u001b[39m\n\u001b[0;32m     43\u001b[0m frame_times \u001b[38;5;241m=\u001b[39m [\u001b[38;5;28mint\u001b[39m(time \u001b[38;5;241m*\u001b[39m fps) \u001b[38;5;28;01mfor\u001b[39;00m time \u001b[38;5;129;01min\u001b[39;00m time_slots_in_seconds]\n\u001b[1;32m---> 44\u001b[0m \u001b[38;5;28;01mwith\u001b[39;00m \u001b[38;5;28;43mopen\u001b[39;49m\u001b[43m(\u001b[49m\u001b[38;5;124;43mf\u001b[39;49m\u001b[38;5;124;43m\"\u001b[39;49m\u001b[38;5;124;43m./games/\u001b[39;49m\u001b[38;5;132;43;01m{\u001b[39;49;00m\u001b[43mgame_name\u001b[49m\u001b[38;5;132;43;01m}\u001b[39;49;00m\u001b[38;5;124;43m.json\u001b[39;49m\u001b[38;5;124;43m\"\u001b[39;49m\u001b[43m,\u001b[49m\u001b[43m \u001b[49m\u001b[38;5;124;43m\"\u001b[39;49m\u001b[38;5;124;43mr\u001b[39;49m\u001b[38;5;124;43m\"\u001b[39;49m\u001b[43m)\u001b[49m \u001b[38;5;28;01mas\u001b[39;00m file:\n\u001b[0;32m     45\u001b[0m     data \u001b[38;5;241m=\u001b[39m json\u001b[38;5;241m.\u001b[39mload(file)\n\u001b[0;32m     47\u001b[0m \u001b[38;5;28;01mfor\u001b[39;00m i, game_state \u001b[38;5;129;01min\u001b[39;00m \u001b[38;5;28menumerate\u001b[39m(data[\u001b[38;5;124m\"\u001b[39m\u001b[38;5;124mgame_states\u001b[39m\u001b[38;5;124m\"\u001b[39m]):\n",
      "File \u001b[1;32m~\\AppData\\Roaming\\Python\\Python311\\site-packages\\IPython\\core\\interactiveshell.py:284\u001b[0m, in \u001b[0;36m_modified_open\u001b[1;34m(file, *args, **kwargs)\u001b[0m\n\u001b[0;32m    277\u001b[0m \u001b[38;5;28;01mif\u001b[39;00m file \u001b[38;5;129;01min\u001b[39;00m {\u001b[38;5;241m0\u001b[39m, \u001b[38;5;241m1\u001b[39m, \u001b[38;5;241m2\u001b[39m}:\n\u001b[0;32m    278\u001b[0m     \u001b[38;5;28;01mraise\u001b[39;00m \u001b[38;5;167;01mValueError\u001b[39;00m(\n\u001b[0;32m    279\u001b[0m         \u001b[38;5;124mf\u001b[39m\u001b[38;5;124m\"\u001b[39m\u001b[38;5;124mIPython won\u001b[39m\u001b[38;5;124m'\u001b[39m\u001b[38;5;124mt let you open fd=\u001b[39m\u001b[38;5;132;01m{\u001b[39;00mfile\u001b[38;5;132;01m}\u001b[39;00m\u001b[38;5;124m by default \u001b[39m\u001b[38;5;124m\"\u001b[39m\n\u001b[0;32m    280\u001b[0m         \u001b[38;5;124m\"\u001b[39m\u001b[38;5;124mas it is likely to crash IPython. If you know what you are doing, \u001b[39m\u001b[38;5;124m\"\u001b[39m\n\u001b[0;32m    281\u001b[0m         \u001b[38;5;124m\"\u001b[39m\u001b[38;5;124myou can use builtins\u001b[39m\u001b[38;5;124m'\u001b[39m\u001b[38;5;124m open.\u001b[39m\u001b[38;5;124m\"\u001b[39m\n\u001b[0;32m    282\u001b[0m     )\n\u001b[1;32m--> 284\u001b[0m \u001b[38;5;28;01mreturn\u001b[39;00m \u001b[43mio_open\u001b[49m\u001b[43m(\u001b[49m\u001b[43mfile\u001b[49m\u001b[43m,\u001b[49m\u001b[43m \u001b[49m\u001b[38;5;241;43m*\u001b[39;49m\u001b[43margs\u001b[49m\u001b[43m,\u001b[49m\u001b[43m \u001b[49m\u001b[38;5;241;43m*\u001b[39;49m\u001b[38;5;241;43m*\u001b[39;49m\u001b[43mkwargs\u001b[49m\u001b[43m)\u001b[49m\n",
      "\u001b[1;31mFileNotFoundError\u001b[0m: [Errno 2] No such file or directory: './games/moving_game.json'"
     ]
    }
   ],
   "source": [
    "import json\n",
    "import cv2\n",
    "\n",
    "time_slots_fix_game = [\n",
    "    \"00:03\", \"00:06\", \"00:08\", \"00:12\", \"00:16\", \"00:23\", \"00:29\", \"00:37\",\n",
    "    \"00:44\", \"00:57\", \"01:05\", \"01:11\", \"01:17\", \"01:21\", \"01:27\", \"01:31\",\n",
    "    \"01:39\", \"01:48\", \"01:56\", \"02:05\", \"02:11\", \"02:18\", \"02:24\", \"02:34\",\n",
    "    \"02:39\", \"02:46\", \"02:51\", \"03:00\", \"03:04\", \"03:11\", \"03:16\", \"03:23\",\n",
    "    \"03:30\", \"03:37\", \"03:45\", \"03:50\", \"03:57\", \"04:06\", \"04:13\", \"04:19\",\n",
    "    \"04:24\", \"04:28\", \"04:34\", \"04:42\", \"04:48\", \"04:54\", \"05:01\", \"05:06\",\n",
    "    \"05:12\", \"05:15\", \"05:20\", \"05:23\", \"05:27\", \"05:31\", \"05:37\", \"05:50\",\n",
    "    \"05:56\", \"06:09\", \"06:14\", \"06:23\", \n",
    "]\n",
    "\n",
    "time_slots_moving_game = [\n",
    "    \"00:05\", \"00:13\", \"00:17\", \"00:21\", \"00:26\", \"00:33\", \"00:38\", \"00:44\",\n",
    "    \"00:49\", \"00:56\", \"01:02\", \"01:09\", \"01:15\", \"01:19\", \"01:23\", \"01:31\", \n",
    "    \"01:37\", \"01:53\", \"01:59\", \"02:16\", \"02:23\", \"02:31\", \"02:36\", \"02:41\",\n",
    "    \"02:51\", \"03:10\", \"03:15\", \"03:18\", \"03:26\", \"03:33\", \"03:39\", \"03:44\",\n",
    "    \"03:50\", \"03:58\", \"04:04\", \"04:13\", \"04:19\", \"04:28\", \"04:33\", \"04:37\",\n",
    "    \"04:41\", \"04:47\", \"04:52\", \"04:57\", \"05:03\", \"05:12\", \"05:19\", \"05:32\",\n",
    "    \"05:38\", \"05:48\", \"05:53\", \"05:57\", \"06:01\", \"06:06\", \"06:11\", \"06:19\",\n",
    "    \"06:24\", \"06:33\", \"06:38\", \"06:46\", \"06:51\", \"07:06\", \"07:11\", \"07:17\",\n",
    "    \"07:24\", \"07:37\", \"07:45\", \"07:51\", \"07:57\", \"08:07\", \n",
    "]\n",
    "\n",
    "time_slots = time_slots_moving_game\n",
    "\n",
    "\n",
    "game_name = \"moving_game\"\n",
    "\n",
    "\n",
    "time_slots_in_seconds = []\n",
    "for t in time_slots:\n",
    "    minutes, seconds = t.split(':')\n",
    "    time_slots_in_seconds.append(int(minutes) * 60 + int(seconds))\n",
    "\n",
    "cap = cv2.VideoCapture(f'../videos/{game_name}.MOV')\n",
    "\n",
    "fps = int(cap.get(cv2.CAP_PROP_FPS))  \n",
    "frame_number = 0\n",
    "\n",
    "frame_times = [int(time * fps) for time in time_slots_in_seconds]\n",
    "with open(f\"./games/{game_name}.json\", \"r\") as file:\n",
    "    data = json.load(file)\n",
    "\n",
    "for i, game_state in enumerate(data[\"game_states\"]):\n",
    "    if i < len(frame_times):\n",
    "        game_state[\"frame\"] = frame_times[i]\n",
    "\n",
    "updated_json_file = f\"{game_name}.json\"\n",
    "with open(updated_json_file, \"w\") as file:\n",
    "    json.dump(data, file, separators=(',', ':'))"
   ]
  }
 ],
 "metadata": {
  "kernelspec": {
   "display_name": "Python 3",
   "language": "python",
   "name": "python3"
  },
  "language_info": {
   "codemirror_mode": {
    "name": "ipython",
    "version": 3
   },
   "file_extension": ".py",
   "mimetype": "text/x-python",
   "name": "python",
   "nbconvert_exporter": "python",
   "pygments_lexer": "ipython3",
   "version": "3.11.3"
  }
 },
 "nbformat": 4,
 "nbformat_minor": 2
}
