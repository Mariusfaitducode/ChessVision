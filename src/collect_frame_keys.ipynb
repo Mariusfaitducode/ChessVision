{
 "cells": [
  {
   "cell_type": "code",
   "execution_count": 7,
   "metadata": {},
   "outputs": [],
   "source": [
    "import json\n",
    "import cv2\n",
    "\n",
    "time_slots_fix_game = [\n",
    "    \"00:03\", \"00:06\", \"00:08\", \"00:12\", \"00:16\", \"00:23\", \"00:29\", \"00:37\",\n",
    "    \"00:44\", \"00:57\", \"01:05\", \"01:11\", \"01:17\", \"01:21\", \"01:27\", \"01:31\",\n",
    "    \"01:39\", \"01:48\", \"01:56\", \"02:05\", \"02:11\", \"02:18\", \"02:24\", \"02:34\",\n",
    "    \"02:39\", \"02:46\", \"02:51\", \"03:00\", \"03:04\", \"03:11\", \"03:16\", \"03:23\",\n",
    "    \"03:30\", \"03:37\", \"03:45\", \"03:50\", \"03:57\", \"04:06\", \"04:13\", \"04:19\",\n",
    "    \"04:24\", \"04:28\", \"04:34\", \"04:42\", \"04:48\", \"04:54\", \"05:01\", \"05:06\",\n",
    "    \"05:12\", \"05:15\", \"05:20\", \"05:23\", \"05:27\", \"05:31\", \"05:37\", \"05:50\",\n",
    "    \"05:56\", \"06:09\", \"06:14\", \"06:23\", \n",
    "]\n",
    "\n",
    "time_slots_moving_game = [\n",
    "    \"00:05\", \"00:13\", \"00:17\", \"00:21\", \"00:26\", \"00:33\", \"00:38\", \"00:44\",\n",
    "    \"00:49\", \"00:56\", \"01:02\", \"01:09\", \"01:15\", \"01:19\", \"01:23\", \"01:31\", \n",
    "    \"01:37\", \"01:53\", \"01:59\", \"02:16\", \"02:23\", \"02:31\", \"02:36\", \"02:41\",\n",
    "    \"02:51\", \"03:10\", \"03:15\", \"03:18\", \"03:26\", \"03:33\", \"03:39\", \"03:44\",\n",
    "    \"03:50\", \"03:58\", \"04:04\", \"04:13\", \"04:19\", \"04:28\", \"04:33\", \"04:37\",\n",
    "    \"04:41\", \"04:47\", \"04:52\", \"04:57\", \"05:03\", \"05:12\", \"05:19\", \"05:32\",\n",
    "    \"05:38\", \"05:48\", \"05:53\", \"05:57\", \"06:01\", \"06:06\", \"06:11\", \"06:19\",\n",
    "    \"06:24\", \"06:33\", \"06:38\", \"06:46\", \"06:51\", \"07:06\", \"07:11\", \"07:17\",\n",
    "    \"07:24\", \"07:37\", \"07:45\", \"07:51\", \"07:57\", \"08:07\", \n",
    "]\n",
    "\n",
    "time_slots = time_slots_moving_game\n",
    "\n",
    "\n",
    "game_name = \"moving_game\"\n",
    "\n",
    "\n",
    "time_slots_in_seconds = []\n",
    "for t in time_slots:\n",
    "    minutes, seconds = t.split(':')\n",
    "    time_slots_in_seconds.append(int(minutes) * 60 + int(seconds))\n",
    "\n",
    "cap = cv2.VideoCapture(f'../videos/{game_name}.MOV')\n",
    "\n",
    "fps = int(cap.get(cv2.CAP_PROP_FPS))  \n",
    "frame_number = 0\n",
    "\n",
    "frame_times = [int(time * fps) for time in time_slots_in_seconds]\n",
    "with open(f\"./games/{game_name}.json\", \"r\") as file:\n",
    "    data = json.load(file)\n",
    "\n",
    "for i, game_state in enumerate(data[\"game_states\"]):\n",
    "    if i < len(frame_times):\n",
    "        game_state[\"frame\"] = frame_times[i]\n",
    "\n",
    "updated_json_file = f\"{game_name}.json\"\n",
    "with open(updated_json_file, \"w\") as file:\n",
    "    json.dump(data, file, separators=(',', ':'))"
   ]
  }
 ],
 "metadata": {
  "kernelspec": {
   "display_name": "Python 3",
   "language": "python",
   "name": "python3"
  },
  "language_info": {
   "codemirror_mode": {
    "name": "ipython",
    "version": 3
   },
   "file_extension": ".py",
   "mimetype": "text/x-python",
   "name": "python",
   "nbconvert_exporter": "python",
   "pygments_lexer": "ipython3",
   "version": "3.12.4"
  }
 },
 "nbformat": 4,
 "nbformat_minor": 2
}
